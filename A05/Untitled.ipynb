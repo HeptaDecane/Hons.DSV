{
 "cells": [
  {
   "cell_type": "markdown",
   "metadata": {},
   "source": [
    "### Problem Statement\n",
    "Use the dataset in assignment 4 (Abalone dataset).\n",
    "- Load the data from data file.  \n",
    "- Explore the shape of dataset.  \n",
    "- Summarize the properties in the training dataset. Write findings from column description.  \n",
    "- Check the dataset for any missing values, impute the missing values and also print out the correlation matrix.  \n",
    "- Split data into train, test sets.  \n",
    "- Predict ring class as classification problem using Naive Bayes and Decision Tree Classifier.  \n",
    "- Calculate the accuracy score of the two models for both training and test data set.  \n",
    "- Display confusion matrix.  \n",
    "- Display the classification report.  \n",
    "- Compare the two models based on accuracy score and classification report and g ive your reasoning on which is the best model in this case.  "
   ]
  },
  {
   "cell_type": "code",
   "execution_count": null,
   "metadata": {},
   "outputs": [],
   "source": []
  }
 ],
 "metadata": {
  "kernelspec": {
   "display_name": "Python [conda env:analytics] *",
   "language": "python",
   "name": "conda-env-analytics-py"
  },
  "language_info": {
   "codemirror_mode": {
    "name": "ipython",
    "version": 3
   },
   "file_extension": ".py",
   "mimetype": "text/x-python",
   "name": "python",
   "nbconvert_exporter": "python",
   "pygments_lexer": "ipython3",
   "version": "3.8.5"
  }
 },
 "nbformat": 4,
 "nbformat_minor": 4
}
